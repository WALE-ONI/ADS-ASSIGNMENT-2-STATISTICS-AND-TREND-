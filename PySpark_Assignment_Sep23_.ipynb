{
  "cells": [
    {
      "cell_type": "markdown",
      "metadata": {
        "id": "view-in-github",
        "colab_type": "text"
      },
      "source": [
        "<a href=\"https://colab.research.google.com/github/WALE-ONI/ADS-ASSIGNMENT-2-STATISTICS-AND-TREND-/blob/main/PySpark_Assignment_Sep23_.ipynb\" target=\"_parent\"><img src=\"https://colab.research.google.com/assets/colab-badge.svg\" alt=\"Open In Colab\"/></a>"
      ]
    },
    {
      "cell_type": "markdown",
      "metadata": {
        "id": "ViQdeQ5m1E2Z"
      },
      "source": [
        "# ADS2 - Assignment 1 - Data Handling and Processing with PySpark\n",
        "\n",
        "**STUDENT NAME - OLAJIDE STEPHEN WALE-ONI**\n",
        "\n",
        "**STUDENT ID - 22013012**\n",
        "\n",
        "In this assignment, you will be analysing the popularity of films and TV shows on the streaming platform, Netflix. Using your knowledge of PySpark DataFrames and Spark SQL, you will produce a number of \"downstream\" data products to analyse trends in global streaming habits.\n",
        "\n",
        "Download the dataset from this [Kaggle](https://www.kaggle.com/dhruvildave/netflix-top-10-tv-shows-and-films) page. A copy of the `all_weeks_countries.csv` file is also available on the canvas page for this assignment.\n",
        "\n",
        "Your task is to load in the data and produce a number of \"downstream\" data products and plots as described below.\n",
        "\n",
        "The PySpark installation and setup is provided below for conveinience.\n",
        "\n",
        "IMPORTANT: DO NOT EDIT OR REMOVE THE COMMENT TAGS IN THE CODE CELLS"
      ]
    },
    {
      "cell_type": "code",
      "execution_count": 177,
      "metadata": {
        "id": "5lb-Z7ZM8O3s"
      },
      "outputs": [],
      "source": [
        "# CodeGrade Tag Init1\n",
        "\n",
        "# Apache Spark uses Java, so first we must install that\n",
        "!apt-get install openjdk-8-jdk-headless -qq > /dev/null"
      ]
    },
    {
      "cell_type": "code",
      "execution_count": 178,
      "metadata": {
        "id": "ixa72o938SKP",
        "colab": {
          "base_uri": "https://localhost:8080/"
        },
        "outputId": "509ed433-b383-4b56-df4d-84e8211593bf"
      },
      "outputs": [
        {
          "output_type": "stream",
          "name": "stdout",
          "text": [
            "Drive already mounted at /content/drive; to attempt to forcibly remount, call drive.mount(\"/content/drive\", force_remount=True).\n"
          ]
        }
      ],
      "source": [
        "# CodeGrade Tag Init2\n",
        "# Mount Google Drive and unpack Spark\n",
        "from google.colab import drive\n",
        "drive.mount('/content/drive')\n",
        "!tar xzf /content/drive/MyDrive/spark-3.3.0-bin-hadoop3.tgz"
      ]
    },
    {
      "cell_type": "code",
      "execution_count": 179,
      "metadata": {
        "id": "yWT7_XiQ8V6u"
      },
      "outputs": [],
      "source": [
        "# CodeGrade Tag Init3\n",
        "# Set up environment variables\n",
        "import os\n",
        "os.environ[\"JAVA_HOME\"] = \"/usr/lib/jvm/java-8-openjdk-amd64\"\n",
        "os.environ[\"SPARK_HOME\"] = \"/content/spark-3.3.0-bin-hadoop3\""
      ]
    },
    {
      "cell_type": "code",
      "execution_count": 180,
      "metadata": {
        "id": "UPSvq-aj8Z_k"
      },
      "outputs": [],
      "source": [
        "# CodeGrade Tag Init4\n",
        "# Install findspark, which helps python locate the pyspark module files\n",
        "!pip install -q findspark\n",
        "import findspark\n",
        "findspark.init()"
      ]
    },
    {
      "cell_type": "code",
      "execution_count": 181,
      "metadata": {
        "id": "kXT8Q_IO8cVe"
      },
      "outputs": [],
      "source": [
        "# Finally, we initialse a \"SparkSession\", which handles the computations\n",
        "from pyspark.sql import SparkSession\n",
        "spark = SparkSession.builder\\\n",
        "        .master(\"local\")\\\n",
        "        .appName(\"Colab\")\\\n",
        "        .config('spark.ui.port', '4050')\\\n",
        "        .getOrCreate()"
      ]
    },
    {
      "cell_type": "code",
      "execution_count": 182,
      "metadata": {
        "id": "nY0UxWbdDcag"
      },
      "outputs": [],
      "source": [
        "# Load the all_weeks_countries.csv into your Colab Notebook as a DataFrame.\n",
        "netflixcsvpath = '/content/drive/MyDrive/all-weeks-countries.csv'\n",
        "\n",
        "# Data is loaded with header: True and an inferred schema\n",
        "netflixDF = (spark\n",
        "           .read\n",
        "           .option('header', 'True')\n",
        "           .option('inferSchema', 'True')\n",
        "           .csv(netflixcsvpath)\n",
        "          )"
      ]
    },
    {
      "cell_type": "code",
      "execution_count": 183,
      "metadata": {
        "id": "adZdlbyGL7Mj"
      },
      "outputs": [],
      "source": [
        "# pyspark.sql.functions countains all the transformations and actions you will\n",
        "# need\n",
        "from pyspark.sql import functions as F"
      ]
    },
    {
      "cell_type": "markdown",
      "metadata": {
        "id": "yfW6RnY_GZpE"
      },
      "source": [
        "# Exercise 1 - Data Preparation\n",
        "\n",
        "\n",
        "1.   Create two separate DataFrames for Films and TV.\n",
        "2.   For the Films data, drop the column containing the season names.\n",
        "3.   For the TV data, replace any null values in the season name column with the show name."
      ]
    },
    {
      "cell_type": "code",
      "execution_count": 184,
      "metadata": {
        "id": "I7PS8iZgqwjt",
        "colab": {
          "base_uri": "https://localhost:8080/"
        },
        "outputId": "e67837f5-0287-455d-f5cc-c64b1ca929a0"
      },
      "outputs": [
        {
          "output_type": "stream",
          "name": "stdout",
          "text": [
            "+------------+------------+-------------------+--------+-----------+----------------------------------+------------------------------------+--------------------------+\n",
            "|country_name|country_iso2|week               |category|weekly_rank|show_title                        |season_title                        |cumulative_weeks_in_top_10|\n",
            "+------------+------------+-------------------+--------+-----------+----------------------------------+------------------------------------+--------------------------+\n",
            "|Argentina   |AR          |2022-08-21 00:00:00|Films   |1          |Look Both Ways                    |null                                |1                         |\n",
            "|Argentina   |AR          |2022-08-21 00:00:00|Films   |2          |Day Shift                         |null                                |2                         |\n",
            "|Argentina   |AR          |2022-08-21 00:00:00|Films   |3          |Bank Robbers: The Last Great Heist|null                                |2                         |\n",
            "|Argentina   |AR          |2022-08-21 00:00:00|Films   |4          |The Next 365 Days                 |null                                |1                         |\n",
            "|Argentina   |AR          |2022-08-21 00:00:00|Films   |5          |The Angry Birds Movie 2           |null                                |1                         |\n",
            "|Argentina   |AR          |2022-08-21 00:00:00|Films   |6          |Purple Hearts                     |null                                |4                         |\n",
            "|Argentina   |AR          |2022-08-21 00:00:00|Films   |7          |River Runs Red                    |null                                |1                         |\n",
            "|Argentina   |AR          |2022-08-21 00:00:00|Films   |8          |1917                              |null                                |2                         |\n",
            "|Argentina   |AR          |2022-08-21 00:00:00|Films   |9          |Code Name: Emperor                |null                                |2                         |\n",
            "|Argentina   |AR          |2022-08-21 00:00:00|Films   |10         |Royalteen                         |null                                |1                         |\n",
            "|Argentina   |AR          |2022-08-21 00:00:00|TV      |1          |Pasión de Gavilanes               |Pasión de Gavilanes: Season 2       |5                         |\n",
            "|Argentina   |AR          |2022-08-21 00:00:00|TV      |2          |Another Self                      |Another Self: Season 1              |4                         |\n",
            "|Argentina   |AR          |2022-08-21 00:00:00|TV      |3          |Pasión de Gavilanes               |Pasión de Gavilanes: Season 1       |58                        |\n",
            "|Argentina   |AR          |2022-08-21 00:00:00|TV      |4          |Manifest                          |Manifest: Season 1                  |6                         |\n",
            "|Argentina   |AR          |2022-08-21 00:00:00|TV      |5          |The Sandman                       |The Sandman: Season 1               |3                         |\n",
            "|Argentina   |AR          |2022-08-21 00:00:00|TV      |6          |Extraordinary Attorney Woo        |Extraordinary Attorney Woo: Season 1|2                         |\n",
            "|Argentina   |AR          |2022-08-21 00:00:00|TV      |7          |High Heat                         |High Heat: Season 1                 |1                         |\n",
            "|Argentina   |AR          |2022-08-21 00:00:00|TV      |8          |Manifest                          |Manifest: Season 2                  |5                         |\n",
            "|Argentina   |AR          |2022-08-21 00:00:00|TV      |9          |Manifest                          |Manifest: Season 3                  |4                         |\n",
            "|Argentina   |AR          |2022-08-21 00:00:00|TV      |10         |Never Have I Ever                 |Never Have I Ever: Season 3         |2                         |\n",
            "+------------+------------+-------------------+--------+-----------+----------------------------------+------------------------------------+--------------------------+\n",
            "only showing top 20 rows\n",
            "\n",
            "+------------+------------+-------------------+--------+-----------+--------------------+--------------------+--------------------------+\n",
            "|country_name|country_iso2|               week|category|weekly_rank|          show_title|        season_title|cumulative_weeks_in_top_10|\n",
            "+------------+------------+-------------------+--------+-----------+--------------------+--------------------+--------------------------+\n",
            "|   Argentina|          AR|2022-08-21 00:00:00|   Films|          1|      Look Both Ways|                null|                         1|\n",
            "|   Argentina|          AR|2022-08-21 00:00:00|   Films|          2|           Day Shift|                null|                         2|\n",
            "|   Argentina|          AR|2022-08-21 00:00:00|   Films|          3|Bank Robbers: The...|                null|                         2|\n",
            "|   Argentina|          AR|2022-08-21 00:00:00|   Films|          4|   The Next 365 Days|                null|                         1|\n",
            "|   Argentina|          AR|2022-08-21 00:00:00|   Films|          5|The Angry Birds M...|                null|                         1|\n",
            "|   Argentina|          AR|2022-08-21 00:00:00|   Films|          6|       Purple Hearts|                null|                         4|\n",
            "|   Argentina|          AR|2022-08-21 00:00:00|   Films|          7|      River Runs Red|                null|                         1|\n",
            "|   Argentina|          AR|2022-08-21 00:00:00|   Films|          8|                1917|                null|                         2|\n",
            "|   Argentina|          AR|2022-08-21 00:00:00|   Films|          9|  Code Name: Emperor|                null|                         2|\n",
            "|   Argentina|          AR|2022-08-21 00:00:00|   Films|         10|           Royalteen|                null|                         1|\n",
            "|   Argentina|          AR|2022-08-21 00:00:00|      TV|          1| Pasión de Gavilanes|Pasión de Gavilan...|                         5|\n",
            "|   Argentina|          AR|2022-08-21 00:00:00|      TV|          2|        Another Self|Another Self: Sea...|                         4|\n",
            "|   Argentina|          AR|2022-08-21 00:00:00|      TV|          3| Pasión de Gavilanes|Pasión de Gavilan...|                        58|\n",
            "|   Argentina|          AR|2022-08-21 00:00:00|      TV|          4|            Manifest|  Manifest: Season 1|                         6|\n",
            "|   Argentina|          AR|2022-08-21 00:00:00|      TV|          5|         The Sandman|The Sandman: Seas...|                         3|\n",
            "|   Argentina|          AR|2022-08-21 00:00:00|      TV|          6|Extraordinary Att...|Extraordinary Att...|                         2|\n",
            "|   Argentina|          AR|2022-08-21 00:00:00|      TV|          7|           High Heat| High Heat: Season 1|                         1|\n",
            "|   Argentina|          AR|2022-08-21 00:00:00|      TV|          8|            Manifest|  Manifest: Season 2|                         5|\n",
            "|   Argentina|          AR|2022-08-21 00:00:00|      TV|          9|            Manifest|  Manifest: Season 3|                         4|\n",
            "|   Argentina|          AR|2022-08-21 00:00:00|      TV|         10|   Never Have I Ever|Never Have I Ever...|                         2|\n",
            "+------------+------------+-------------------+--------+-----------+--------------------+--------------------+--------------------------+\n",
            "only showing top 20 rows\n",
            "\n",
            "root\n",
            " |-- country_name: string (nullable = true)\n",
            " |-- country_iso2: string (nullable = true)\n",
            " |-- week: timestamp (nullable = true)\n",
            " |-- category: string (nullable = true)\n",
            " |-- weekly_rank: integer (nullable = true)\n",
            " |-- show_title: string (nullable = true)\n",
            " |-- season_title: string (nullable = true)\n",
            " |-- cumulative_weeks_in_top_10: integer (nullable = true)\n",
            "\n"
          ]
        }
      ],
      "source": [
        "# CodeGrade Tag Ex1a\n",
        "\n",
        "### Display the table and its schema\n",
        "\n",
        "##SOLUTION 1a\n",
        "\n",
        "netflixDF.show(truncate = False)# the truncate function is to make sure all text in each colums are shown\n",
        "\n",
        "#display table and schema\n",
        "netflixDF.show()\n",
        "netflixDF.printSchema()"
      ]
    },
    {
      "cell_type": "code",
      "execution_count": 185,
      "metadata": {
        "id": "qfke8sGRN5ns",
        "colab": {
          "base_uri": "https://localhost:8080/"
        },
        "outputId": "8511fc1d-d450-49b6-ff67-c78065dfe68d"
      },
      "outputs": [
        {
          "output_type": "stream",
          "name": "stdout",
          "text": [
            "+------------+------------+-------------------+--------+-----------+--------------------+--------------------+--------------------------+\n",
            "|country_name|country_iso2|               week|category|weekly_rank|          show_title|        season_title|cumulative_weeks_in_top_10|\n",
            "+------------+------------+-------------------+--------+-----------+--------------------+--------------------+--------------------------+\n",
            "|   Argentina|          AR|2022-08-21 00:00:00|      TV|          1| Pasión de Gavilanes|Pasión de Gavilan...|                         5|\n",
            "|   Argentina|          AR|2022-08-21 00:00:00|      TV|          2|        Another Self|Another Self: Sea...|                         4|\n",
            "|   Argentina|          AR|2022-08-21 00:00:00|      TV|          3| Pasión de Gavilanes|Pasión de Gavilan...|                        58|\n",
            "|   Argentina|          AR|2022-08-21 00:00:00|      TV|          4|            Manifest|  Manifest: Season 1|                         6|\n",
            "|   Argentina|          AR|2022-08-21 00:00:00|      TV|          5|         The Sandman|The Sandman: Seas...|                         3|\n",
            "|   Argentina|          AR|2022-08-21 00:00:00|      TV|          6|Extraordinary Att...|Extraordinary Att...|                         2|\n",
            "|   Argentina|          AR|2022-08-21 00:00:00|      TV|          7|           High Heat| High Heat: Season 1|                         1|\n",
            "|   Argentina|          AR|2022-08-21 00:00:00|      TV|          8|            Manifest|  Manifest: Season 2|                         5|\n",
            "|   Argentina|          AR|2022-08-21 00:00:00|      TV|          9|            Manifest|  Manifest: Season 3|                         4|\n",
            "|   Argentina|          AR|2022-08-21 00:00:00|      TV|         10|   Never Have I Ever|Never Have I Ever...|                         2|\n",
            "|   Argentina|          AR|2022-08-14 00:00:00|      TV|          1| Pasión de Gavilanes|Pasión de Gavilan...|                         4|\n",
            "|   Argentina|          AR|2022-08-14 00:00:00|      TV|          2|        Another Self|Another Self: Sea...|                         3|\n",
            "|   Argentina|          AR|2022-08-14 00:00:00|      TV|          3|         The Sandman|The Sandman: Seas...|                         2|\n",
            "|   Argentina|          AR|2022-08-14 00:00:00|      TV|          4| Pasión de Gavilanes|Pasión de Gavilan...|                        57|\n",
            "|   Argentina|          AR|2022-08-14 00:00:00|      TV|          5|            Manifest|  Manifest: Season 1|                         5|\n",
            "|   Argentina|          AR|2022-08-14 00:00:00|      TV|          6|Extraordinary Att...|Extraordinary Att...|                         1|\n",
            "|   Argentina|          AR|2022-08-14 00:00:00|      TV|          7|                Alba|      Alba: Season 1|                         5|\n",
            "|   Argentina|          AR|2022-08-14 00:00:00|      TV|          8|            Manifest|  Manifest: Season 2|                         4|\n",
            "|   Argentina|          AR|2022-08-14 00:00:00|      TV|          9|            Manifest|  Manifest: Season 3|                         3|\n",
            "|   Argentina|          AR|2022-08-14 00:00:00|      TV|         10|   Never Have I Ever|Never Have I Ever...|                         1|\n",
            "+------------+------------+-------------------+--------+-----------+--------------------+--------------------+--------------------------+\n",
            "only showing top 20 rows\n",
            "\n",
            "+------------+------------+-------------------+--------+-----------+--------------------+------------+--------------------------+\n",
            "|country_name|country_iso2|               week|category|weekly_rank|          show_title|season_title|cumulative_weeks_in_top_10|\n",
            "+------------+------------+-------------------+--------+-----------+--------------------+------------+--------------------------+\n",
            "|   Argentina|          AR|2022-08-21 00:00:00|   Films|          1|      Look Both Ways|        null|                         1|\n",
            "|   Argentina|          AR|2022-08-21 00:00:00|   Films|          2|           Day Shift|        null|                         2|\n",
            "|   Argentina|          AR|2022-08-21 00:00:00|   Films|          3|Bank Robbers: The...|        null|                         2|\n",
            "|   Argentina|          AR|2022-08-21 00:00:00|   Films|          4|   The Next 365 Days|        null|                         1|\n",
            "|   Argentina|          AR|2022-08-21 00:00:00|   Films|          5|The Angry Birds M...|        null|                         1|\n",
            "|   Argentina|          AR|2022-08-21 00:00:00|   Films|          6|       Purple Hearts|        null|                         4|\n",
            "|   Argentina|          AR|2022-08-21 00:00:00|   Films|          7|      River Runs Red|        null|                         1|\n",
            "|   Argentina|          AR|2022-08-21 00:00:00|   Films|          8|                1917|        null|                         2|\n",
            "|   Argentina|          AR|2022-08-21 00:00:00|   Films|          9|  Code Name: Emperor|        null|                         2|\n",
            "|   Argentina|          AR|2022-08-21 00:00:00|   Films|         10|           Royalteen|        null|                         1|\n",
            "|   Argentina|          AR|2022-08-14 00:00:00|   Films|          1|Bank Robbers: The...|        null|                         1|\n",
            "|   Argentina|          AR|2022-08-14 00:00:00|   Films|          2|       Purple Hearts|        null|                         3|\n",
            "|   Argentina|          AR|2022-08-14 00:00:00|   Films|          3|                1917|        null|                         1|\n",
            "|   Argentina|          AR|2022-08-14 00:00:00|   Films|          4|           Day Shift|        null|                         1|\n",
            "|   Argentina|          AR|2022-08-14 00:00:00|   Films|          5|  Code Name: Emperor|        null|                         1|\n",
            "|   Argentina|          AR|2022-08-14 00:00:00|   Films|          6|              Carter|        null|                         2|\n",
            "|   Argentina|          AR|2022-08-14 00:00:00|   Films|          7|          Recurrence|        null|                         3|\n",
            "|   Argentina|          AR|2022-08-14 00:00:00|   Films|          8|      Wedding Season|        null|                         2|\n",
            "|   Argentina|          AR|2022-08-14 00:00:00|   Films|          9|        Dreamkatcher|        null|                         1|\n",
            "|   Argentina|          AR|2022-08-14 00:00:00|   Films|         10|        The Gray Man|        null|                         4|\n",
            "+------------+------------+-------------------+--------+-----------+--------------------+------------+--------------------------+\n",
            "only showing top 20 rows\n",
            "\n"
          ]
        }
      ],
      "source": [
        "# CodeGrade Tag Ex1b\n",
        "\n",
        "### Seperate the data into two DataFrames for Films and TV\n",
        "### Call the dataframes tvDF and filmsDF\n",
        "\n",
        "\n",
        "##SOLUTION 1b\n",
        "\n",
        "#seperating the data into  filmsDF and tvDF\n",
        "filmsDF = netflixDF.filter(netflixDF[\"category\"] == \"Films\")\n",
        "tvDF = netflixDF.filter(netflixDF[\"category\"] == \"TV\")\n",
        "\n",
        "#calling tvDF and filmsDF\n",
        "tvDF.show()\n",
        "filmsDF.show()"
      ]
    },
    {
      "cell_type": "code",
      "execution_count": 186,
      "metadata": {
        "id": "X7JsDYkQN7Zw",
        "colab": {
          "base_uri": "https://localhost:8080/"
        },
        "outputId": "daf4865d-44df-4cf9-f835-957782c287b7"
      },
      "outputs": [
        {
          "output_type": "stream",
          "name": "stdout",
          "text": [
            "+------------+------------+-------------------+--------+-----------+--------------------+--------------------------+\n",
            "|country_name|country_iso2|               week|category|weekly_rank|          show_title|cumulative_weeks_in_top_10|\n",
            "+------------+------------+-------------------+--------+-----------+--------------------+--------------------------+\n",
            "|   Argentina|          AR|2022-08-21 00:00:00|   Films|          1|      Look Both Ways|                         1|\n",
            "|   Argentina|          AR|2022-08-21 00:00:00|   Films|          2|           Day Shift|                         2|\n",
            "|   Argentina|          AR|2022-08-21 00:00:00|   Films|          3|Bank Robbers: The...|                         2|\n",
            "|   Argentina|          AR|2022-08-21 00:00:00|   Films|          4|   The Next 365 Days|                         1|\n",
            "|   Argentina|          AR|2022-08-21 00:00:00|   Films|          5|The Angry Birds M...|                         1|\n",
            "|   Argentina|          AR|2022-08-21 00:00:00|   Films|          6|       Purple Hearts|                         4|\n",
            "|   Argentina|          AR|2022-08-21 00:00:00|   Films|          7|      River Runs Red|                         1|\n",
            "|   Argentina|          AR|2022-08-21 00:00:00|   Films|          8|                1917|                         2|\n",
            "|   Argentina|          AR|2022-08-21 00:00:00|   Films|          9|  Code Name: Emperor|                         2|\n",
            "|   Argentina|          AR|2022-08-21 00:00:00|   Films|         10|           Royalteen|                         1|\n",
            "|   Argentina|          AR|2022-08-14 00:00:00|   Films|          1|Bank Robbers: The...|                         1|\n",
            "|   Argentina|          AR|2022-08-14 00:00:00|   Films|          2|       Purple Hearts|                         3|\n",
            "|   Argentina|          AR|2022-08-14 00:00:00|   Films|          3|                1917|                         1|\n",
            "|   Argentina|          AR|2022-08-14 00:00:00|   Films|          4|           Day Shift|                         1|\n",
            "|   Argentina|          AR|2022-08-14 00:00:00|   Films|          5|  Code Name: Emperor|                         1|\n",
            "|   Argentina|          AR|2022-08-14 00:00:00|   Films|          6|              Carter|                         2|\n",
            "|   Argentina|          AR|2022-08-14 00:00:00|   Films|          7|          Recurrence|                         3|\n",
            "|   Argentina|          AR|2022-08-14 00:00:00|   Films|          8|      Wedding Season|                         2|\n",
            "|   Argentina|          AR|2022-08-14 00:00:00|   Films|          9|        Dreamkatcher|                         1|\n",
            "|   Argentina|          AR|2022-08-14 00:00:00|   Films|         10|        The Gray Man|                         4|\n",
            "+------------+------------+-------------------+--------+-----------+--------------------+--------------------------+\n",
            "only showing top 20 rows\n",
            "\n"
          ]
        }
      ],
      "source": [
        "# CodeGrade Tag Ex1c\n",
        "\n",
        "### Drop the 'season_title' column from the Films DataFrame, display the table\n",
        "\n",
        "##SOLUTION 1c\n",
        "#dropping 'season_title column\n",
        "filmsDF= filmsDF.drop(\"season_title\")\n",
        "filmsDF.show()\n"
      ]
    },
    {
      "cell_type": "code",
      "execution_count": 187,
      "metadata": {
        "id": "4M83pWB5N9Ar",
        "colab": {
          "base_uri": "https://localhost:8080/"
        },
        "outputId": "ae9de0a1-894f-4f4e-d539-705b5cfef472"
      },
      "outputs": [
        {
          "output_type": "stream",
          "name": "stdout",
          "text": [
            "+------------+------------+-------------------+--------+-----------+--------------------+--------------------+--------------------------+-----------------+\n",
            "|country_name|country_iso2|               week|category|weekly_rank|          show_title|        season_title|cumulative_weeks_in_top_10|null_season_title|\n",
            "+------------+------------+-------------------+--------+-----------+--------------------+--------------------+--------------------------+-----------------+\n",
            "|   Argentina|          AR|2022-08-21 00:00:00|   Films|          1|      Look Both Ways|                null|                         1|             true|\n",
            "|   Argentina|          AR|2022-08-21 00:00:00|   Films|          2|           Day Shift|                null|                         2|             true|\n",
            "|   Argentina|          AR|2022-08-21 00:00:00|   Films|          3|Bank Robbers: The...|                null|                         2|             true|\n",
            "|   Argentina|          AR|2022-08-21 00:00:00|   Films|          4|   The Next 365 Days|                null|                         1|             true|\n",
            "|   Argentina|          AR|2022-08-21 00:00:00|   Films|          5|The Angry Birds M...|                null|                         1|             true|\n",
            "|   Argentina|          AR|2022-08-21 00:00:00|   Films|          6|       Purple Hearts|                null|                         4|             true|\n",
            "|   Argentina|          AR|2022-08-21 00:00:00|   Films|          7|      River Runs Red|                null|                         1|             true|\n",
            "|   Argentina|          AR|2022-08-21 00:00:00|   Films|          8|                1917|                null|                         2|             true|\n",
            "|   Argentina|          AR|2022-08-21 00:00:00|   Films|          9|  Code Name: Emperor|                null|                         2|             true|\n",
            "|   Argentina|          AR|2022-08-21 00:00:00|   Films|         10|           Royalteen|                null|                         1|             true|\n",
            "|   Argentina|          AR|2022-08-21 00:00:00|      TV|          1| Pasión de Gavilanes|Pasión de Gavilan...|                         5|            false|\n",
            "|   Argentina|          AR|2022-08-21 00:00:00|      TV|          2|        Another Self|Another Self: Sea...|                         4|            false|\n",
            "|   Argentina|          AR|2022-08-21 00:00:00|      TV|          3| Pasión de Gavilanes|Pasión de Gavilan...|                        58|            false|\n",
            "|   Argentina|          AR|2022-08-21 00:00:00|      TV|          4|            Manifest|  Manifest: Season 1|                         6|            false|\n",
            "|   Argentina|          AR|2022-08-21 00:00:00|      TV|          5|         The Sandman|The Sandman: Seas...|                         3|            false|\n",
            "|   Argentina|          AR|2022-08-21 00:00:00|      TV|          6|Extraordinary Att...|Extraordinary Att...|                         2|            false|\n",
            "|   Argentina|          AR|2022-08-21 00:00:00|      TV|          7|           High Heat| High Heat: Season 1|                         1|            false|\n",
            "|   Argentina|          AR|2022-08-21 00:00:00|      TV|          8|            Manifest|  Manifest: Season 2|                         5|            false|\n",
            "|   Argentina|          AR|2022-08-21 00:00:00|      TV|          9|            Manifest|  Manifest: Season 3|                         4|            false|\n",
            "|   Argentina|          AR|2022-08-21 00:00:00|      TV|         10|   Never Have I Ever|Never Have I Ever...|                         2|            false|\n",
            "+------------+------------+-------------------+--------+-----------+--------------------+--------------------+--------------------------+-----------------+\n",
            "only showing top 20 rows\n",
            "\n",
            "+------------+------------+-------------------+--------+-----------+--------------------+--------------------+--------------------------+-----------------+\n",
            "|country_name|country_iso2|               week|category|weekly_rank|          show_title|        season_title|cumulative_weeks_in_top_10|null_season_title|\n",
            "+------------+------------+-------------------+--------+-----------+--------------------+--------------------+--------------------------+-----------------+\n",
            "|   Argentina|          AR|2022-08-21 00:00:00|   Films|          1|      Look Both Ways|      Look Both Ways|                         1|             true|\n",
            "|   Argentina|          AR|2022-08-21 00:00:00|   Films|          2|           Day Shift|           Day Shift|                         2|             true|\n",
            "|   Argentina|          AR|2022-08-21 00:00:00|   Films|          3|Bank Robbers: The...|Bank Robbers: The...|                         2|             true|\n",
            "|   Argentina|          AR|2022-08-21 00:00:00|   Films|          4|   The Next 365 Days|   The Next 365 Days|                         1|             true|\n",
            "|   Argentina|          AR|2022-08-21 00:00:00|   Films|          5|The Angry Birds M...|The Angry Birds M...|                         1|             true|\n",
            "|   Argentina|          AR|2022-08-21 00:00:00|   Films|          6|       Purple Hearts|       Purple Hearts|                         4|             true|\n",
            "|   Argentina|          AR|2022-08-21 00:00:00|   Films|          7|      River Runs Red|      River Runs Red|                         1|             true|\n",
            "|   Argentina|          AR|2022-08-21 00:00:00|   Films|          8|                1917|                1917|                         2|             true|\n",
            "|   Argentina|          AR|2022-08-21 00:00:00|   Films|          9|  Code Name: Emperor|  Code Name: Emperor|                         2|             true|\n",
            "|   Argentina|          AR|2022-08-21 00:00:00|   Films|         10|           Royalteen|           Royalteen|                         1|             true|\n",
            "|   Argentina|          AR|2022-08-21 00:00:00|      TV|          1| Pasión de Gavilanes|Pasión de Gavilan...|                         5|            false|\n",
            "|   Argentina|          AR|2022-08-21 00:00:00|      TV|          2|        Another Self|Another Self: Sea...|                         4|            false|\n",
            "|   Argentina|          AR|2022-08-21 00:00:00|      TV|          3| Pasión de Gavilanes|Pasión de Gavilan...|                        58|            false|\n",
            "|   Argentina|          AR|2022-08-21 00:00:00|      TV|          4|            Manifest|  Manifest: Season 1|                         6|            false|\n",
            "|   Argentina|          AR|2022-08-21 00:00:00|      TV|          5|         The Sandman|The Sandman: Seas...|                         3|            false|\n",
            "|   Argentina|          AR|2022-08-21 00:00:00|      TV|          6|Extraordinary Att...|Extraordinary Att...|                         2|            false|\n",
            "|   Argentina|          AR|2022-08-21 00:00:00|      TV|          7|           High Heat| High Heat: Season 1|                         1|            false|\n",
            "|   Argentina|          AR|2022-08-21 00:00:00|      TV|          8|            Manifest|  Manifest: Season 2|                         5|            false|\n",
            "|   Argentina|          AR|2022-08-21 00:00:00|      TV|          9|            Manifest|  Manifest: Season 3|                         4|            false|\n",
            "|   Argentina|          AR|2022-08-21 00:00:00|      TV|         10|   Never Have I Ever|Never Have I Ever...|                         2|            false|\n",
            "+------------+------------+-------------------+--------+-----------+--------------------+--------------------+--------------------------+-----------------+\n",
            "only showing top 20 rows\n",
            "\n",
            "+------------+------------+-------------------+--------+-----------+--------------------+--------------------+--------------------------+\n",
            "|country_name|country_iso2|               week|category|weekly_rank|          show_title|        season_title|cumulative_weeks_in_top_10|\n",
            "+------------+------------+-------------------+--------+-----------+--------------------+--------------------+--------------------------+\n",
            "|   Argentina|          AR|2022-08-21 00:00:00|      TV|          1| Pasión de Gavilanes|Pasión de Gavilan...|                         5|\n",
            "|   Argentina|          AR|2022-08-21 00:00:00|      TV|          2|        Another Self|Another Self: Sea...|                         4|\n",
            "|   Argentina|          AR|2022-08-21 00:00:00|      TV|          3| Pasión de Gavilanes|Pasión de Gavilan...|                        58|\n",
            "|   Argentina|          AR|2022-08-21 00:00:00|      TV|          4|            Manifest|  Manifest: Season 1|                         6|\n",
            "|   Argentina|          AR|2022-08-21 00:00:00|      TV|          5|         The Sandman|The Sandman: Seas...|                         3|\n",
            "|   Argentina|          AR|2022-08-21 00:00:00|      TV|          6|Extraordinary Att...|Extraordinary Att...|                         2|\n",
            "|   Argentina|          AR|2022-08-21 00:00:00|      TV|          7|           High Heat| High Heat: Season 1|                         1|\n",
            "|   Argentina|          AR|2022-08-21 00:00:00|      TV|          8|            Manifest|  Manifest: Season 2|                         5|\n",
            "|   Argentina|          AR|2022-08-21 00:00:00|      TV|          9|            Manifest|  Manifest: Season 3|                         4|\n",
            "|   Argentina|          AR|2022-08-21 00:00:00|      TV|         10|   Never Have I Ever|Never Have I Ever...|                         2|\n",
            "|   Argentina|          AR|2022-08-14 00:00:00|      TV|          1| Pasión de Gavilanes|Pasión de Gavilan...|                         4|\n",
            "|   Argentina|          AR|2022-08-14 00:00:00|      TV|          2|        Another Self|Another Self: Sea...|                         3|\n",
            "|   Argentina|          AR|2022-08-14 00:00:00|      TV|          3|         The Sandman|The Sandman: Seas...|                         2|\n",
            "|   Argentina|          AR|2022-08-14 00:00:00|      TV|          4| Pasión de Gavilanes|Pasión de Gavilan...|                        57|\n",
            "|   Argentina|          AR|2022-08-14 00:00:00|      TV|          5|            Manifest|  Manifest: Season 1|                         5|\n",
            "|   Argentina|          AR|2022-08-14 00:00:00|      TV|          6|Extraordinary Att...|Extraordinary Att...|                         1|\n",
            "|   Argentina|          AR|2022-08-14 00:00:00|      TV|          7|                Alba|      Alba: Season 1|                         5|\n",
            "|   Argentina|          AR|2022-08-14 00:00:00|      TV|          8|            Manifest|  Manifest: Season 2|                         4|\n",
            "|   Argentina|          AR|2022-08-14 00:00:00|      TV|          9|            Manifest|  Manifest: Season 3|                         3|\n",
            "|   Argentina|          AR|2022-08-14 00:00:00|      TV|         10|   Never Have I Ever|Never Have I Ever...|                         1|\n",
            "+------------+------------+-------------------+--------+-----------+--------------------+--------------------+--------------------------+\n",
            "only showing top 20 rows\n",
            "\n"
          ]
        }
      ],
      "source": [
        "# CodeGrade Tag Ex1d\n",
        "\n",
        "### Use the F.isnull function to create a column showing where there are null\n",
        "### values in the 'season_title' column. Replace the null values with the\n",
        "### corresponding value from the 'show_title' column, then replace the\n",
        "### 'season_title' column in the tvDF DataFrame.\n",
        "\n",
        "##SOLUTION 1d\n",
        "# Create a new column 'empty_column' to flag the null values in 'season_title'\n",
        "null_values = netflixDF.withColumn('null_season_title', F.isnull(F.col('season_title')))\n",
        "\n",
        "# To Replace null values in 'season_title' with the value from 'show_title'\n",
        "replace_null_values= null_values.withColumn('season_title', F.when(null_values['null_season_title'], null_values['show_title']).otherwise(null_values['season_title']))\n",
        "\n",
        "\n",
        "# Replace null values in 'season_title' with values from 'show_title' in the tvDF DataFrame\n",
        "#tvDF_replace_values = tvDF.withColumn('season_title', F.coalesce(F.col('season_title'), F.col('show_title')))\n",
        "\n",
        "\n",
        "tvDF_replace_values = tvDF.withColumn(\n",
        "    'season_title',\n",
        "    F.coalesce(tvDF['season_title'], tvDF['show_title'])\n",
        ")\n",
        "# Show the resulting DataFrames\n",
        "null_values.show()\n",
        "replace_null_values.show()\n",
        "tvDF_replace_values.show()"
      ]
    },
    {
      "cell_type": "markdown",
      "metadata": {
        "id": "rAHZm5_9IzTn"
      },
      "source": [
        "# Exercise 2\n",
        "\n",
        "Making use of the \"groupBy\" and \"where\" methods, find the number of weeks the show \"Stranger Things\" was in the Top 10 for the United Kingdom across all seasons. Store your result in a variable named \"STWeeks\"\n"
      ]
    },
    {
      "cell_type": "code",
      "execution_count": 188,
      "metadata": {
        "id": "68QRfnJsvIdt",
        "colab": {
          "base_uri": "https://localhost:8080/"
        },
        "outputId": "d221b6f0-9020-4422-fa3e-95fb12dad987"
      },
      "outputs": [
        {
          "output_type": "stream",
          "name": "stdout",
          "text": [
            "+--------------+------------+-------------------+--------+-----------+---------------+-----------------+--------------------------+\n",
            "|  country_name|country_iso2|               week|category|weekly_rank|     show_title|     season_title|cumulative_weeks_in_top_10|\n",
            "+--------------+------------+-------------------+--------+-----------+---------------+-----------------+--------------------------+\n",
            "|United Kingdom|          GB|2022-08-21 00:00:00|      TV|          3|Stranger Things|Stranger Things 4|                        13|\n",
            "|United Kingdom|          GB|2022-08-14 00:00:00|      TV|          3|Stranger Things|Stranger Things 4|                        12|\n",
            "|United Kingdom|          GB|2022-08-14 00:00:00|      TV|         10|Stranger Things|Stranger Things 3|                        12|\n",
            "|United Kingdom|          GB|2022-08-07 00:00:00|      TV|          2|Stranger Things|Stranger Things 4|                        11|\n",
            "|United Kingdom|          GB|2022-08-07 00:00:00|      TV|          9|Stranger Things|Stranger Things 3|                        11|\n",
            "|United Kingdom|          GB|2022-08-07 00:00:00|      TV|         10|Stranger Things|Stranger Things 2|                        11|\n",
            "|United Kingdom|          GB|2022-07-31 00:00:00|      TV|          2|Stranger Things|Stranger Things 4|                        10|\n",
            "|United Kingdom|          GB|2022-07-31 00:00:00|      TV|          5|Stranger Things|Stranger Things 3|                        10|\n",
            "|United Kingdom|          GB|2022-07-31 00:00:00|      TV|          6|Stranger Things|Stranger Things 2|                        10|\n",
            "|United Kingdom|          GB|2022-07-31 00:00:00|      TV|          8|Stranger Things|             null|                        10|\n",
            "|United Kingdom|          GB|2022-07-24 00:00:00|      TV|          2|Stranger Things|Stranger Things 4|                         9|\n",
            "|United Kingdom|          GB|2022-07-24 00:00:00|      TV|          5|Stranger Things|Stranger Things 3|                         9|\n",
            "|United Kingdom|          GB|2022-07-24 00:00:00|      TV|          6|Stranger Things|Stranger Things 2|                         9|\n",
            "|United Kingdom|          GB|2022-07-24 00:00:00|      TV|          7|Stranger Things|             null|                         9|\n",
            "|United Kingdom|          GB|2022-07-17 00:00:00|      TV|          1|Stranger Things|Stranger Things 4|                         8|\n",
            "|United Kingdom|          GB|2022-07-17 00:00:00|      TV|          3|Stranger Things|Stranger Things 2|                         8|\n",
            "|United Kingdom|          GB|2022-07-17 00:00:00|      TV|          4|Stranger Things|Stranger Things 3|                         8|\n",
            "|United Kingdom|          GB|2022-07-17 00:00:00|      TV|          5|Stranger Things|             null|                         8|\n",
            "|United Kingdom|          GB|2022-07-10 00:00:00|      TV|          1|Stranger Things|Stranger Things 4|                         7|\n",
            "|United Kingdom|          GB|2022-07-10 00:00:00|      TV|          2|Stranger Things|             null|                         7|\n",
            "+--------------+------------+-------------------+--------+-----------+---------------+-----------------+--------------------------+\n",
            "only showing top 20 rows\n",
            "\n",
            "+---------------+------------------------------+\n",
            "|     show_title|max_cumulative_weeks_in_top_10|\n",
            "+---------------+------------------------------+\n",
            "|Stranger Things|                            13|\n",
            "+---------------+------------------------------+\n",
            "\n"
          ]
        }
      ],
      "source": [
        "# CodeGrade Tag Ex2\n",
        "### Use the \"where\" method to create a new dataframe containing the data for\n",
        "### the show Stranger Things in the Uniter Kingdom. Call this dataframe STDF.\n",
        "\n",
        "\n",
        "### Using \"groupBy\" method and \"F.count_distinct\" function, find the total number of weeks\n",
        "### Stranger Things spent in the top 10 of the UK, across all seasons. Show the\n",
        "### result.\n",
        "\n",
        "##SOLUTION 2\n",
        "\n",
        "\n",
        "# Filter the DataFrame for \"Stranger Things\" in the UK and rank in top 10\n",
        "STDF = netflixDF.where(\n",
        "    (netflixDF['show_title'] == 'Stranger Things') &\n",
        "    (netflixDF['country_name'] == 'United Kingdom')\n",
        ")\n",
        "\n",
        "# Aggregate to find the maximum value of 'cumulative_weeks_in_top_10'\n",
        "# Group by 'country_name' and 'show_title' to get distinct rows for each country and show combination\n",
        "# Even though the 'country_name' and 'show_title' are constant in this case, they are included to show the structure clearly\n",
        "#weeks_for_top_10 = STDF.groupBy('show_title').agg(F.count_distinct('week').alias('max_cumulative_weeks_in_top_10')\n",
        "#)\n",
        "\n",
        "weeks_for_top_10 = STDF.groupBy('show_title').agg(\n",
        "    F.count_distinct('week').alias('max_cumulative_weeks_in_top_10')\n",
        ")\n",
        "\n",
        "# Show the filtered DataFrame for \"Stranger Things\" in the top 10 UK\n",
        "STDF.show()\n",
        "\n",
        "# Show the aggregated result with the maximum cumulative weeks in top 10 for \"Stranger Things\" in the UK\n",
        "weeks_for_top_10.show()\n",
        "\n",
        "\n",
        "\n",
        "\n"
      ]
    },
    {
      "cell_type": "code",
      "source": [],
      "metadata": {
        "id": "wQ5cWbbqUA57"
      },
      "execution_count": 188,
      "outputs": []
    },
    {
      "cell_type": "markdown",
      "metadata": {
        "id": "o1i0AYsUzfOl"
      },
      "source": [
        "# Exercise 3\n",
        "\n",
        "Produce a dataframe containing only the Top 25 TV seasons in the UK, based on the number of weeks they spent in the Top 10."
      ]
    },
    {
      "cell_type": "code",
      "execution_count": 189,
      "metadata": {
        "id": "JvD5HHZpSOLM",
        "colab": {
          "base_uri": "https://localhost:8080/"
        },
        "outputId": "613ac2c0-e1c2-455d-d1e3-f7b1bb9d1c9e"
      },
      "outputs": [
        {
          "output_type": "stream",
          "name": "stdout",
          "text": [
            "+--------------+--------+--------------------+--------------------------+\n",
            "|  country_name|category|        season_title|cumulative_weeks_in_top_10|\n",
            "+--------------+--------+--------------------+--------------------------+\n",
            "|       Austria|      TV|First Kill: Season 1|                         3|\n",
            "|       Bahamas|      TV|The Ultimatum: Ma...|                         4|\n",
            "|       Bahrain|      TV|Too Hot to Handle...|                         2|\n",
            "|       Bahrain|      TV|Squid Game: Season 1|                        16|\n",
            "|       Bahrain|      TV|Turning Point: 9/...|                         2|\n",
            "|    Bangladesh|      TV|Locke & Key: Seas...|                         2|\n",
            "|       Bolivia|      TV|The Cuphead Show!...|                         3|\n",
            "|        Brazil|      TV| Riverdale: Season 5|                         2|\n",
            "|      Bulgaria|      TV|Dark Desire: Seas...|                         2|\n",
            "|      Bulgaria|      TV| Mr. Robot: Season 1|                         2|\n",
            "|        Canada|      TV|PAW Patrol: Season 8|                         6|\n",
            "|    Costa Rica|      TV|  Sky Rojo: Season 2|                         2|\n",
            "|       Croatia|      TV|Virgin River: Sea...|                         4|\n",
            "|       Croatia|      TV|The White Queen: ...|                         3|\n",
            "|       Croatia|      TV|Lost in Space: Se...|                         3|\n",
            "|       Croatia|      TV|The Office (U.S.)...|                         4|\n",
            "|        Cyprus|      TV|First Kill: Season 1|                         3|\n",
            "|Czech Republic|      TV|An Astrological G...|                         1|\n",
            "|Czech Republic|      TV|Clickbait: Limite...|                         4|\n",
            "|       Denmark|      TV|Car Masters: Rust...|                         1|\n",
            "+--------------+--------+--------------------+--------------------------+\n",
            "only showing top 20 rows\n",
            "\n"
          ]
        }
      ],
      "source": [
        "# CodeGrade Tag Ex3\n",
        "### Produce a dataframe containing the top 25 seasons by number of weeks in the\n",
        "### top 10 of the United Kingdom, sorted by number of weeks. Store the dataframe\n",
        "### in a variable called Top25\n",
        "\n",
        "\n",
        "##SOLUTION 3\n",
        "# Filter the DataFrame for entries in the United Kingdom and in the top 10\n",
        "uk_top10 = netflixDF.where(\n",
        "    (netflixDF['country_name'] == 'United Kingdom') &\n",
        "    (netflixDF['weekly_rank'] <= 10)\n",
        ")\n",
        "Top_25= netflixDF.groupBy('country_name', 'category', 'season_title').agg(F.max(netflixDF['cumulative_weeks_in_top_10']).\n",
        "                                                                  alias('cumulative_weeks_in_top_10')) # grouping by each elements\n",
        "\n",
        "Top_25.show()\n"
      ]
    },
    {
      "cell_type": "markdown",
      "metadata": {
        "id": "QSLCobP5Tpmp"
      },
      "source": [
        "# Exercise 4\n",
        "\n",
        "For the show \"Young Sheldon\", find the country where each season spent the most time in the Top 10."
      ]
    },
    {
      "cell_type": "code",
      "execution_count": 190,
      "metadata": {
        "id": "ocBh6iMbkQ0t",
        "colab": {
          "base_uri": "https://localhost:8080/"
        },
        "outputId": "1b41d12b-8fb8-44d1-fc45-7f980a0333e3"
      },
      "outputs": [
        {
          "output_type": "stream",
          "name": "stdout",
          "text": [
            "+--------------+-------------------------+-------------------+\n",
            "|country_name  |season_title             |max_weeks_in_top_10|\n",
            "+--------------+-------------------------+-------------------+\n",
            "|Australia     |Young Sheldon: Season 4  |1                  |\n",
            "|New Zealand   |Young Sheldon: Season 4  |1                  |\n",
            "|United Kingdom|Young Sheldon: : Season 2|6                  |\n",
            "|Ireland       |Young Sheldon: : Season 1|6                  |\n",
            "|United Kingdom|Young Sheldon: : Season 1|6                  |\n",
            "|Canada        |Young Sheldon: : Season 1|6                  |\n",
            "|United Kingdom|Young Sheldon: : Season 3|4                  |\n",
            "+--------------+-------------------------+-------------------+\n",
            "\n"
          ]
        }
      ],
      "source": [
        "# CodeGrade Tag Ex4\n",
        "### For each season of the show \"Young Sheldon\" find the countries where it spent\n",
        "### the most time in the Top 10\n",
        "\n",
        "# Filter the DataFrame for the show \"Young Sheldon\"\n",
        "young_sheldon_df = netflixDF.filter(netflixDF['show_title'] == 'Young Sheldon')\n",
        "\n",
        "# Group by 'season_title' and 'country_name', and find the max 'cumulative_weeks_in_top_10' for each combination\n",
        "country_season_max_weeks = young_sheldon_df.groupBy('season_title', 'country_name').agg(\n",
        "    F.max('cumulative_weeks_in_top_10').alias('max_weeks_in_top_10')\n",
        ")\n",
        "\n",
        "# Now find the maximum 'cumulative_weeks_in_top_10' for each season across all countries\n",
        "max_weeks_per_season = country_season_max_weeks.groupBy('season_title').agg(\n",
        "    F.max('max_weeks_in_top_10').alias('max_weeks_in_top_10')\n",
        ")\n",
        "\n",
        "# Join the max weeks per season back to the country-season max weeks to find the corresponding countries\n",
        "top_countries_per_season = country_season_max_weeks.join(\n",
        "    max_weeks_per_season,\n",
        "    on=['season_title', 'max_weeks_in_top_10'],\n",
        "    how='inner'\n",
        ")\n",
        "\n",
        "# Select and display the desired columns\n",
        "top_countries_per_season.select('country_name', 'season_title', 'max_weeks_in_top_10').show(truncate=False)\n"
      ]
    },
    {
      "cell_type": "markdown",
      "metadata": {
        "id": "aOi5jbLgTupk"
      },
      "source": [
        "# Exercise 5\n",
        "\n",
        "For each country, find the film that spent the most time in the Top 10."
      ]
    },
    {
      "cell_type": "code",
      "execution_count": 191,
      "metadata": {
        "id": "hYz243A8kkNG",
        "colab": {
          "base_uri": "https://localhost:8080/"
        },
        "outputId": "786b821e-4a0e-45e2-e940-283b79401c56"
      },
      "outputs": [
        {
          "output_type": "stream",
          "name": "stdout",
          "text": [
            "+------------+-------------------+--------------------+\n",
            "|country_name|max_weeks_in_top_10|          show_title|\n",
            "+------------+-------------------+--------------------+\n",
            "|    Paraguay|                  9|  Sonic the Hedgehog|\n",
            "|      Russia|                 16|          Red Notice|\n",
            "|      Sweden|                  8|              Hustle|\n",
            "|      Sweden|                  8|    The Adam Project|\n",
            "| Philippines|                  7|          Red Notice|\n",
            "|    Malaysia|                 14|Upin & Ipin: The ...|\n",
            "|   Singapore|                  7|          Red Notice|\n",
            "|      Turkey|                 13|          Red Notice|\n",
            "|     Germany|                 13|Harry Potter and ...|\n",
            "|      Jordan|                 14|          Red Notice|\n",
            "|    Maldives|                 14|        Sooryavanshi|\n",
            "|      France|                  6|    The Adam Project|\n",
            "|      France|                  6|       Don't Look Up|\n",
            "|      France|                  6|       The Sea Beast|\n",
            "|      France|                  6|        The Takedown|\n",
            "|      Greece|                  7|       Don't Look Up|\n",
            "|   Sri Lanka|                 12|          Red Notice|\n",
            "|      Taiwan|                 20|         Man in Love|\n",
            "|    Slovakia|                 13|          Red Notice|\n",
            "|   Argentina|                  7|  Sonic the Hedgehog|\n",
            "+------------+-------------------+--------------------+\n",
            "only showing top 20 rows\n",
            "\n"
          ]
        }
      ],
      "source": [
        "# CodeGrade Tag Ex5\n",
        "### For each country, find the film that spent the most time in the Top 10\n",
        "### Display the results in a Dataframe ordered by country name.\n",
        "\n",
        "\n",
        "# CodeGrade Tag Ex5\n",
        "### For each country, find the film that spent the most time in the Top 10\n",
        "### Display the results in a Dataframe ordered by country name.\n",
        "\n",
        "F_DF= filmsDF.groupBy('country_name', 'show_title').agg(F.max('cumulative_weeks_in_top_10').alias('max_weeks_in_top_10')).sort(F.desc('max_weeks_in_top_10'))\n",
        "G_DF= filmsDF.groupBy('country_name').agg(F.max('cumulative_weeks_in_top_10').alias('max_weeks_in_top_10'))\n",
        "d3 = F_DF.join(G_DF, on=[\"country_name\", \"max_weeks_in_top_10\"], how=\"inner\")\n",
        "d3.show()"
      ]
    },
    {
      "cell_type": "markdown",
      "metadata": {
        "id": "_YOKr4khadrB"
      },
      "source": [
        "# Exercise 6\n",
        "\n",
        "Calculate the number of weeks each film spent at the number 1 spot of each country's Top 10 list. Then find the films that spent the most time in the number 1 spot for each country."
      ]
    },
    {
      "cell_type": "code",
      "execution_count": 192,
      "metadata": {
        "id": "T4KuEbwgbJar",
        "colab": {
          "base_uri": "https://localhost:8080/",
          "height": 531
        },
        "outputId": "6dd6ce3b-62a7-48fb-cf2d-6c5691622f3d"
      },
      "outputs": [
        {
          "output_type": "error",
          "ename": "AnalysisException",
          "evalue": "ignored",
          "traceback": [
            "\u001b[0;31m---------------------------------------------------------------------------\u001b[0m",
            "\u001b[0;31mAnalysisException\u001b[0m                         Traceback (most recent call last)",
            "\u001b[0;32m<ipython-input-192-384f116e5812>\u001b[0m in \u001b[0;36m<cell line: 13>\u001b[0;34m()\u001b[0m\n\u001b[1;32m     11\u001b[0m \u001b[0;31m# If there's no such column, you will need to define the logic on how to determine if a film was at number 1\u001b[0m\u001b[0;34m\u001b[0m\u001b[0;34m\u001b[0m\u001b[0m\n\u001b[1;32m     12\u001b[0m \u001b[0;34m\u001b[0m\u001b[0m\n\u001b[0;32m---> 13\u001b[0;31m netflixDF = netflixDF.withColumn(\n\u001b[0m\u001b[1;32m     14\u001b[0m     \u001b[0;34m\"weeks_at_1\"\u001b[0m\u001b[0;34m,\u001b[0m\u001b[0;34m\u001b[0m\u001b[0;34m\u001b[0m\u001b[0m\n\u001b[1;32m     15\u001b[0m     \u001b[0mF\u001b[0m\u001b[0;34m.\u001b[0m\u001b[0mwhen\u001b[0m\u001b[0;34m(\u001b[0m\u001b[0mF\u001b[0m\u001b[0;34m.\u001b[0m\u001b[0mcol\u001b[0m\u001b[0;34m(\u001b[0m\u001b[0;34m\"top_spot_weeks\"\u001b[0m\u001b[0;34m)\u001b[0m \u001b[0;34m>\u001b[0m \u001b[0;36m0\u001b[0m\u001b[0;34m,\u001b[0m \u001b[0mF\u001b[0m\u001b[0;34m.\u001b[0m\u001b[0mcol\u001b[0m\u001b[0;34m(\u001b[0m\u001b[0;34m\"top_spot_weeks\"\u001b[0m\u001b[0;34m)\u001b[0m\u001b[0;34m)\u001b[0m\u001b[0;34m.\u001b[0m\u001b[0motherwise\u001b[0m\u001b[0;34m(\u001b[0m\u001b[0;36m0\u001b[0m\u001b[0;34m)\u001b[0m\u001b[0;34m\u001b[0m\u001b[0;34m\u001b[0m\u001b[0m\n",
            "\u001b[0;32m/content/spark-3.3.0-bin-hadoop3/python/pyspark/sql/dataframe.py\u001b[0m in \u001b[0;36mwithColumn\u001b[0;34m(self, colName, col)\u001b[0m\n\u001b[1;32m   3034\u001b[0m         \u001b[0;32mif\u001b[0m \u001b[0;32mnot\u001b[0m \u001b[0misinstance\u001b[0m\u001b[0;34m(\u001b[0m\u001b[0mcol\u001b[0m\u001b[0;34m,\u001b[0m \u001b[0mColumn\u001b[0m\u001b[0;34m)\u001b[0m\u001b[0;34m:\u001b[0m\u001b[0;34m\u001b[0m\u001b[0;34m\u001b[0m\u001b[0m\n\u001b[1;32m   3035\u001b[0m             \u001b[0;32mraise\u001b[0m \u001b[0mTypeError\u001b[0m\u001b[0;34m(\u001b[0m\u001b[0;34m\"col should be Column\"\u001b[0m\u001b[0;34m)\u001b[0m\u001b[0;34m\u001b[0m\u001b[0;34m\u001b[0m\u001b[0m\n\u001b[0;32m-> 3036\u001b[0;31m         \u001b[0;32mreturn\u001b[0m \u001b[0mDataFrame\u001b[0m\u001b[0;34m(\u001b[0m\u001b[0mself\u001b[0m\u001b[0;34m.\u001b[0m\u001b[0m_jdf\u001b[0m\u001b[0;34m.\u001b[0m\u001b[0mwithColumn\u001b[0m\u001b[0;34m(\u001b[0m\u001b[0mcolName\u001b[0m\u001b[0;34m,\u001b[0m \u001b[0mcol\u001b[0m\u001b[0;34m.\u001b[0m\u001b[0m_jc\u001b[0m\u001b[0;34m)\u001b[0m\u001b[0;34m,\u001b[0m \u001b[0mself\u001b[0m\u001b[0;34m.\u001b[0m\u001b[0msparkSession\u001b[0m\u001b[0;34m)\u001b[0m\u001b[0;34m\u001b[0m\u001b[0;34m\u001b[0m\u001b[0m\n\u001b[0m\u001b[1;32m   3037\u001b[0m \u001b[0;34m\u001b[0m\u001b[0m\n\u001b[1;32m   3038\u001b[0m     \u001b[0;32mdef\u001b[0m \u001b[0mwithColumnRenamed\u001b[0m\u001b[0;34m(\u001b[0m\u001b[0mself\u001b[0m\u001b[0;34m,\u001b[0m \u001b[0mexisting\u001b[0m\u001b[0;34m:\u001b[0m \u001b[0mstr\u001b[0m\u001b[0;34m,\u001b[0m \u001b[0mnew\u001b[0m\u001b[0;34m:\u001b[0m \u001b[0mstr\u001b[0m\u001b[0;34m)\u001b[0m \u001b[0;34m->\u001b[0m \u001b[0;34m\"DataFrame\"\u001b[0m\u001b[0;34m:\u001b[0m\u001b[0;34m\u001b[0m\u001b[0;34m\u001b[0m\u001b[0m\n",
            "\u001b[0;32m/content/spark-3.3.0-bin-hadoop3/python/lib/py4j-0.10.9.5-src.zip/py4j/java_gateway.py\u001b[0m in \u001b[0;36m__call__\u001b[0;34m(self, *args)\u001b[0m\n\u001b[1;32m   1319\u001b[0m \u001b[0;34m\u001b[0m\u001b[0m\n\u001b[1;32m   1320\u001b[0m         \u001b[0manswer\u001b[0m \u001b[0;34m=\u001b[0m \u001b[0mself\u001b[0m\u001b[0;34m.\u001b[0m\u001b[0mgateway_client\u001b[0m\u001b[0;34m.\u001b[0m\u001b[0msend_command\u001b[0m\u001b[0;34m(\u001b[0m\u001b[0mcommand\u001b[0m\u001b[0;34m)\u001b[0m\u001b[0;34m\u001b[0m\u001b[0;34m\u001b[0m\u001b[0m\n\u001b[0;32m-> 1321\u001b[0;31m         return_value = get_return_value(\n\u001b[0m\u001b[1;32m   1322\u001b[0m             answer, self.gateway_client, self.target_id, self.name)\n\u001b[1;32m   1323\u001b[0m \u001b[0;34m\u001b[0m\u001b[0m\n",
            "\u001b[0;32m/content/spark-3.3.0-bin-hadoop3/python/pyspark/sql/utils.py\u001b[0m in \u001b[0;36mdeco\u001b[0;34m(*a, **kw)\u001b[0m\n\u001b[1;32m    194\u001b[0m                 \u001b[0;31m# Hide where the exception came from that shows a non-Pythonic\u001b[0m\u001b[0;34m\u001b[0m\u001b[0;34m\u001b[0m\u001b[0m\n\u001b[1;32m    195\u001b[0m                 \u001b[0;31m# JVM exception message.\u001b[0m\u001b[0;34m\u001b[0m\u001b[0;34m\u001b[0m\u001b[0m\n\u001b[0;32m--> 196\u001b[0;31m                 \u001b[0;32mraise\u001b[0m \u001b[0mconverted\u001b[0m \u001b[0;32mfrom\u001b[0m \u001b[0;32mNone\u001b[0m\u001b[0;34m\u001b[0m\u001b[0;34m\u001b[0m\u001b[0m\n\u001b[0m\u001b[1;32m    197\u001b[0m             \u001b[0;32melse\u001b[0m\u001b[0;34m:\u001b[0m\u001b[0;34m\u001b[0m\u001b[0;34m\u001b[0m\u001b[0m\n\u001b[1;32m    198\u001b[0m                 \u001b[0;32mraise\u001b[0m\u001b[0;34m\u001b[0m\u001b[0;34m\u001b[0m\u001b[0m\n",
            "\u001b[0;31mAnalysisException\u001b[0m: Column 'top_spot_weeks' does not exist. Did you mean one of the following? [week, season_title, show_title, country_iso2, country_name, weekly_rank, category, cumulative_weeks_in_top_10];\n'Project [country_name#7459, country_iso2#7460, week#7461, category#7462, weekly_rank#7463, show_title#7464, season_title#7465, cumulative_weeks_in_top_10#7466, CASE WHEN ('top_spot_weeks > 0) THEN 'top_spot_weeks ELSE 0 END AS weeks_at_1#8092]\n+- Relation [country_name#7459,country_iso2#7460,week#7461,category#7462,weekly_rank#7463,show_title#7464,season_title#7465,cumulative_weeks_in_top_10#7466] csv\n"
          ]
        }
      ],
      "source": [
        "# CodeGrade Tag Ex6a\n",
        "\n",
        "### Create a column using the F.when function to calculate the number of weeks a\n",
        "### films spens in the number 1 spot of the Top 10. Use the .otherwise method to\n",
        "### set rows with no number 1 spots to zero. Use the .alias metod to call this\n",
        "### column \"weeks_at_1\"\n",
        "\n",
        "\n",
        "# Add a new column 'weeks_at_1' to the DataFrame\n",
        "# Assuming there's a column 'top_spot_weeks' that keeps track of the number of weeks at number 1\n",
        "# If there's no such column, you will need to define the logic on how to determine if a film was at number 1\n",
        "\n",
        "netflixDF = netflixDF.withColumn(\n",
        "    \"weeks_at_1\",\n",
        "    F.when(F.col(\"top_spot_weeks\") > 0, F.col(\"top_spot_weeks\")).otherwise(0)\n",
        ").alias(\"weeks_at_1\")\n",
        "\n",
        "# Show the DataFrame to verify the new column\n",
        "netflixDF.show()\n",
        "\n"
      ]
    },
    {
      "cell_type": "code",
      "execution_count": null,
      "metadata": {
        "id": "3bmaFJryC5ub"
      },
      "outputs": [],
      "source": [
        "# CodeGrade Tag Ex6b\n",
        "\n",
        "### Group by country name and sow title, and use the .agg method and your new\n",
        "### column to find the number of weeks each film spent in the top spot for each\n",
        "### country.\n",
        "\n"
      ]
    },
    {
      "cell_type": "code",
      "source": [
        "# CodeGrade Tag Ex6c\n",
        "\n",
        "### Produce a dataframe grouped by country name that contains the show title and\n",
        "### number of weeks at the number 1 spot of the top performing film in each\n",
        "### country.\n",
        "\n"
      ],
      "metadata": {
        "id": "9apP6VYfTBU-"
      },
      "execution_count": null,
      "outputs": []
    }
  ],
  "metadata": {
    "colab": {
      "provenance": [],
      "toc_visible": true,
      "include_colab_link": true
    },
    "kernelspec": {
      "display_name": "Python 3",
      "name": "python3"
    },
    "language_info": {
      "name": "python"
    }
  },
  "nbformat": 4,
  "nbformat_minor": 0
}